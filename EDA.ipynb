{
 "cells": [
  {
   "cell_type": "code",
   "execution_count": 18,
   "id": "418667fd",
   "metadata": {},
   "outputs": [],
   "source": [
    "import pandas as pd\n",
    "import seaborn as sns\n",
    "import matplotlib.pyplot as plt\n",
    "import numpy as np\n",
    "import matplotlib\n",
    "%matplotlib inline"
   ]
  },
  {
   "cell_type": "code",
   "execution_count": 7,
   "id": "90cc6f88",
   "metadata": {
    "scrolled": true
   },
   "outputs": [
    {
     "data": {
      "text/html": [
       "<div>\n",
       "<style scoped>\n",
       "    .dataframe tbody tr th:only-of-type {\n",
       "        vertical-align: middle;\n",
       "    }\n",
       "\n",
       "    .dataframe tbody tr th {\n",
       "        vertical-align: top;\n",
       "    }\n",
       "\n",
       "    .dataframe thead th {\n",
       "        text-align: right;\n",
       "    }\n",
       "</style>\n",
       "<table border=\"1\" class=\"dataframe\">\n",
       "  <thead>\n",
       "    <tr style=\"text-align: right;\">\n",
       "      <th></th>\n",
       "      <th>Title</th>\n",
       "      <th>Location</th>\n",
       "      <th>Security</th>\n",
       "      <th>Garage</th>\n",
       "      <th>Concierge</th>\n",
       "      <th>Price</th>\n",
       "      <th>City</th>\n",
       "      <th>Currency</th>\n",
       "      <th>Nmbr of rooms</th>\n",
       "      <th>Nmbr of pieces</th>\n",
       "      <th>Nmbr of bathrooms</th>\n",
       "      <th>Newness</th>\n",
       "      <th>Surface</th>\n",
       "    </tr>\n",
       "  </thead>\n",
       "  <tbody>\n",
       "    <tr>\n",
       "      <th>0</th>\n",
       "      <td>Appartement avec vue mer depuis toutes les pièces</td>\n",
       "      <td>Centre</td>\n",
       "      <td>0</td>\n",
       "      <td>0</td>\n",
       "      <td>0</td>\n",
       "      <td>2200000</td>\n",
       "      <td>Tanger</td>\n",
       "      <td>DH</td>\n",
       "      <td>2</td>\n",
       "      <td>3</td>\n",
       "      <td>2</td>\n",
       "      <td>Bon état</td>\n",
       "      <td>95</td>\n",
       "    </tr>\n",
       "    <tr>\n",
       "      <th>1</th>\n",
       "      <td>Studio de 43m² en vente, Résidence Panama</td>\n",
       "      <td>Malabata</td>\n",
       "      <td>1</td>\n",
       "      <td>0</td>\n",
       "      <td>0</td>\n",
       "      <td>602000</td>\n",
       "      <td>Tanger</td>\n",
       "      <td>DH</td>\n",
       "      <td>1</td>\n",
       "      <td>1</td>\n",
       "      <td>1</td>\n",
       "      <td>Nouveau</td>\n",
       "      <td>43</td>\n",
       "    </tr>\n",
       "    <tr>\n",
       "      <th>2</th>\n",
       "      <td>Appartement de 94m² en vente Résidence Al Bahja</td>\n",
       "      <td>Tanja Balia</td>\n",
       "      <td>0</td>\n",
       "      <td>0</td>\n",
       "      <td>0</td>\n",
       "      <td>694575</td>\n",
       "      <td>Tanger</td>\n",
       "      <td>DH</td>\n",
       "      <td>3</td>\n",
       "      <td>4</td>\n",
       "      <td>2</td>\n",
       "      <td>Nouveau</td>\n",
       "      <td>94</td>\n",
       "    </tr>\n",
       "    <tr>\n",
       "      <th>3</th>\n",
       "      <td>Appartement avec terrasse et vue mer</td>\n",
       "      <td>De La</td>\n",
       "      <td>0</td>\n",
       "      <td>0</td>\n",
       "      <td>0</td>\n",
       "      <td>2750000</td>\n",
       "      <td>Tanger</td>\n",
       "      <td>DH</td>\n",
       "      <td>2</td>\n",
       "      <td>3</td>\n",
       "      <td>2</td>\n",
       "      <td>Bon état</td>\n",
       "      <td>129</td>\n",
       "    </tr>\n",
       "    <tr>\n",
       "      <th>4</th>\n",
       "      <td>Magnifique duplex avec vue panoramique sur la ...</td>\n",
       "      <td>Centre</td>\n",
       "      <td>0</td>\n",
       "      <td>0</td>\n",
       "      <td>0</td>\n",
       "      <td>3400000</td>\n",
       "      <td>Tanger</td>\n",
       "      <td>DH</td>\n",
       "      <td>2</td>\n",
       "      <td>3</td>\n",
       "      <td>3</td>\n",
       "      <td>Bon état</td>\n",
       "      <td>223</td>\n",
       "    </tr>\n",
       "    <tr>\n",
       "      <th>...</th>\n",
       "      <td>...</td>\n",
       "      <td>...</td>\n",
       "      <td>...</td>\n",
       "      <td>...</td>\n",
       "      <td>...</td>\n",
       "      <td>...</td>\n",
       "      <td>...</td>\n",
       "      <td>...</td>\n",
       "      <td>...</td>\n",
       "      <td>...</td>\n",
       "      <td>...</td>\n",
       "      <td>...</td>\n",
       "      <td>...</td>\n",
       "    </tr>\n",
       "    <tr>\n",
       "      <th>354</th>\n",
       "      <td>Superbe appartement à vendre à Mesnana. 3 bell...</td>\n",
       "      <td>Mesnana</td>\n",
       "      <td>0</td>\n",
       "      <td>0</td>\n",
       "      <td>0</td>\n",
       "      <td>1550000</td>\n",
       "      <td>Tanger</td>\n",
       "      <td>DH</td>\n",
       "      <td>3</td>\n",
       "      <td>5</td>\n",
       "      <td>2</td>\n",
       "      <td>Bon état</td>\n",
       "      <td>105</td>\n",
       "    </tr>\n",
       "    <tr>\n",
       "      <th>355</th>\n",
       "      <td>Appartement Meublé à Vendre – Vue mer – Tanger</td>\n",
       "      <td>Centre</td>\n",
       "      <td>0</td>\n",
       "      <td>0</td>\n",
       "      <td>0</td>\n",
       "      <td>1750000</td>\n",
       "      <td>Tanger</td>\n",
       "      <td>DH</td>\n",
       "      <td>2</td>\n",
       "      <td>4</td>\n",
       "      <td>2</td>\n",
       "      <td>Bon état</td>\n",
       "      <td>100</td>\n",
       "    </tr>\n",
       "    <tr>\n",
       "      <th>356</th>\n",
       "      <td>Appartement Vide à La Vente Route Rabat Tanger</td>\n",
       "      <td>Marjane</td>\n",
       "      <td>0</td>\n",
       "      <td>0</td>\n",
       "      <td>1</td>\n",
       "      <td>1030000</td>\n",
       "      <td>Tanger</td>\n",
       "      <td>DH</td>\n",
       "      <td>3</td>\n",
       "      <td>4</td>\n",
       "      <td>2</td>\n",
       "      <td>Bon état</td>\n",
       "      <td>137</td>\n",
       "    </tr>\n",
       "    <tr>\n",
       "      <th>357</th>\n",
       "      <td>Appartement en vente à Les Rosiers. 2 belles c...</td>\n",
       "      <td>Les Rosiers</td>\n",
       "      <td>1</td>\n",
       "      <td>0</td>\n",
       "      <td>0</td>\n",
       "      <td>270000</td>\n",
       "      <td>Tanger</td>\n",
       "      <td>DH</td>\n",
       "      <td>2</td>\n",
       "      <td>3</td>\n",
       "      <td>1</td>\n",
       "      <td>À rénover</td>\n",
       "      <td>50</td>\n",
       "    </tr>\n",
       "    <tr>\n",
       "      <th>358</th>\n",
       "      <td>Branes 1 - Appartement  à vendre - 97m2</td>\n",
       "      <td>Branes</td>\n",
       "      <td>0</td>\n",
       "      <td>0</td>\n",
       "      <td>0</td>\n",
       "      <td>850000</td>\n",
       "      <td>Tanger</td>\n",
       "      <td>DH</td>\n",
       "      <td>2</td>\n",
       "      <td>3</td>\n",
       "      <td>1</td>\n",
       "      <td>Bon état</td>\n",
       "      <td>97</td>\n",
       "    </tr>\n",
       "  </tbody>\n",
       "</table>\n",
       "<p>359 rows × 13 columns</p>\n",
       "</div>"
      ],
      "text/plain": [
       "                                                 Title     Location  Security  \\\n",
       "0    Appartement avec vue mer depuis toutes les pièces       Centre         0   \n",
       "1            Studio de 43m² en vente, Résidence Panama     Malabata         1   \n",
       "2      Appartement de 94m² en vente Résidence Al Bahja  Tanja Balia         0   \n",
       "3                 Appartement avec terrasse et vue mer        De La         0   \n",
       "4    Magnifique duplex avec vue panoramique sur la ...       Centre         0   \n",
       "..                                                 ...          ...       ...   \n",
       "354  Superbe appartement à vendre à Mesnana. 3 bell...      Mesnana         0   \n",
       "355     Appartement Meublé à Vendre – Vue mer – Tanger       Centre         0   \n",
       "356     Appartement Vide à La Vente Route Rabat Tanger      Marjane         0   \n",
       "357  Appartement en vente à Les Rosiers. 2 belles c...  Les Rosiers         1   \n",
       "358            Branes 1 - Appartement  à vendre - 97m2       Branes         0   \n",
       "\n",
       "     Garage  Concierge    Price    City Currency  Nmbr of rooms  \\\n",
       "0         0          0  2200000  Tanger       DH              2   \n",
       "1         0          0   602000  Tanger       DH              1   \n",
       "2         0          0   694575  Tanger       DH              3   \n",
       "3         0          0  2750000  Tanger       DH              2   \n",
       "4         0          0  3400000  Tanger       DH              2   \n",
       "..      ...        ...      ...     ...      ...            ...   \n",
       "354       0          0  1550000  Tanger       DH              3   \n",
       "355       0          0  1750000  Tanger       DH              2   \n",
       "356       0          1  1030000  Tanger       DH              3   \n",
       "357       0          0   270000  Tanger       DH              2   \n",
       "358       0          0   850000  Tanger       DH              2   \n",
       "\n",
       "     Nmbr of pieces  Nmbr of bathrooms    Newness  Surface  \n",
       "0                 3                  2   Bon état       95  \n",
       "1                 1                  1    Nouveau       43  \n",
       "2                 4                  2    Nouveau       94  \n",
       "3                 3                  2   Bon état      129  \n",
       "4                 3                  3   Bon état      223  \n",
       "..              ...                ...        ...      ...  \n",
       "354               5                  2   Bon état      105  \n",
       "355               4                  2   Bon état      100  \n",
       "356               4                  2   Bon état      137  \n",
       "357               3                  1  À rénover       50  \n",
       "358               3                  1   Bon état       97  \n",
       "\n",
       "[359 rows x 13 columns]"
      ]
     },
     "execution_count": 7,
     "metadata": {},
     "output_type": "execute_result"
    }
   ],
   "source": [
    "df = pd.read_csv('new_df.csv',index_col=[0])\n",
    "df"
   ]
  },
  {
   "cell_type": "code",
   "execution_count": 8,
   "id": "3e6a9ff4",
   "metadata": {},
   "outputs": [
    {
     "data": {
      "text/plain": [
       "(359, 13)"
      ]
     },
     "execution_count": 8,
     "metadata": {},
     "output_type": "execute_result"
    }
   ],
   "source": [
    "df.shape"
   ]
  },
  {
   "cell_type": "code",
   "execution_count": 9,
   "id": "5fe1d628",
   "metadata": {},
   "outputs": [
    {
     "data": {
      "text/plain": [
       "Index(['Title', 'Location', 'Security', 'Garage', 'Concierge', 'Price', 'City',\n",
       "       'Currency', 'Nmbr of rooms', 'Nmbr of pieces', 'Nmbr of bathrooms',\n",
       "       'Newness', 'Surface'],\n",
       "      dtype='object')"
      ]
     },
     "execution_count": 9,
     "metadata": {},
     "output_type": "execute_result"
    }
   ],
   "source": [
    "df.columns"
   ]
  },
  {
   "cell_type": "code",
   "execution_count": 10,
   "id": "ca952194",
   "metadata": {},
   "outputs": [
    {
     "name": "stdout",
     "output_type": "stream",
     "text": [
      "<class 'pandas.core.frame.DataFrame'>\n",
      "Int64Index: 359 entries, 0 to 358\n",
      "Data columns (total 13 columns):\n",
      " #   Column             Non-Null Count  Dtype \n",
      "---  ------             --------------  ----- \n",
      " 0   Title              359 non-null    object\n",
      " 1   Location           359 non-null    object\n",
      " 2   Security           359 non-null    int64 \n",
      " 3   Garage             359 non-null    int64 \n",
      " 4   Concierge          359 non-null    int64 \n",
      " 5   Price              359 non-null    int64 \n",
      " 6   City               359 non-null    object\n",
      " 7   Currency           359 non-null    object\n",
      " 8   Nmbr of rooms      359 non-null    int64 \n",
      " 9   Nmbr of pieces     359 non-null    int64 \n",
      " 10  Nmbr of bathrooms  359 non-null    int64 \n",
      " 11  Newness            359 non-null    object\n",
      " 12  Surface            359 non-null    int64 \n",
      "dtypes: int64(8), object(5)\n",
      "memory usage: 39.3+ KB\n"
     ]
    }
   ],
   "source": [
    "df.info()"
   ]
  },
  {
   "cell_type": "code",
   "execution_count": 11,
   "id": "822cbb72",
   "metadata": {},
   "outputs": [
    {
     "data": {
      "text/html": [
       "<div>\n",
       "<style scoped>\n",
       "    .dataframe tbody tr th:only-of-type {\n",
       "        vertical-align: middle;\n",
       "    }\n",
       "\n",
       "    .dataframe tbody tr th {\n",
       "        vertical-align: top;\n",
       "    }\n",
       "\n",
       "    .dataframe thead th {\n",
       "        text-align: right;\n",
       "    }\n",
       "</style>\n",
       "<table border=\"1\" class=\"dataframe\">\n",
       "  <thead>\n",
       "    <tr style=\"text-align: right;\">\n",
       "      <th></th>\n",
       "      <th>Security</th>\n",
       "      <th>Garage</th>\n",
       "      <th>Concierge</th>\n",
       "      <th>Price</th>\n",
       "      <th>Nmbr of rooms</th>\n",
       "      <th>Nmbr of pieces</th>\n",
       "      <th>Nmbr of bathrooms</th>\n",
       "      <th>Surface</th>\n",
       "    </tr>\n",
       "  </thead>\n",
       "  <tbody>\n",
       "    <tr>\n",
       "      <th>count</th>\n",
       "      <td>359.000000</td>\n",
       "      <td>359.000000</td>\n",
       "      <td>359.000000</td>\n",
       "      <td>3.590000e+02</td>\n",
       "      <td>359.000000</td>\n",
       "      <td>359.000000</td>\n",
       "      <td>359.000000</td>\n",
       "      <td>359.000000</td>\n",
       "    </tr>\n",
       "    <tr>\n",
       "      <th>mean</th>\n",
       "      <td>0.080780</td>\n",
       "      <td>0.002786</td>\n",
       "      <td>0.022284</td>\n",
       "      <td>1.604193e+06</td>\n",
       "      <td>2.504178</td>\n",
       "      <td>3.749304</td>\n",
       "      <td>1.713092</td>\n",
       "      <td>120.451253</td>\n",
       "    </tr>\n",
       "    <tr>\n",
       "      <th>std</th>\n",
       "      <td>0.272877</td>\n",
       "      <td>0.052778</td>\n",
       "      <td>0.147812</td>\n",
       "      <td>1.366335e+06</td>\n",
       "      <td>0.838567</td>\n",
       "      <td>1.448788</td>\n",
       "      <td>0.675692</td>\n",
       "      <td>66.315247</td>\n",
       "    </tr>\n",
       "    <tr>\n",
       "      <th>min</th>\n",
       "      <td>0.000000</td>\n",
       "      <td>0.000000</td>\n",
       "      <td>0.000000</td>\n",
       "      <td>8.000000e+03</td>\n",
       "      <td>1.000000</td>\n",
       "      <td>1.000000</td>\n",
       "      <td>1.000000</td>\n",
       "      <td>34.000000</td>\n",
       "    </tr>\n",
       "    <tr>\n",
       "      <th>25%</th>\n",
       "      <td>0.000000</td>\n",
       "      <td>0.000000</td>\n",
       "      <td>0.000000</td>\n",
       "      <td>7.135000e+05</td>\n",
       "      <td>2.000000</td>\n",
       "      <td>3.000000</td>\n",
       "      <td>1.000000</td>\n",
       "      <td>80.000000</td>\n",
       "    </tr>\n",
       "    <tr>\n",
       "      <th>50%</th>\n",
       "      <td>0.000000</td>\n",
       "      <td>0.000000</td>\n",
       "      <td>0.000000</td>\n",
       "      <td>1.263500e+06</td>\n",
       "      <td>2.000000</td>\n",
       "      <td>4.000000</td>\n",
       "      <td>2.000000</td>\n",
       "      <td>103.000000</td>\n",
       "    </tr>\n",
       "    <tr>\n",
       "      <th>75%</th>\n",
       "      <td>0.000000</td>\n",
       "      <td>0.000000</td>\n",
       "      <td>0.000000</td>\n",
       "      <td>2.154000e+06</td>\n",
       "      <td>3.000000</td>\n",
       "      <td>4.000000</td>\n",
       "      <td>2.000000</td>\n",
       "      <td>145.500000</td>\n",
       "    </tr>\n",
       "    <tr>\n",
       "      <th>max</th>\n",
       "      <td>1.000000</td>\n",
       "      <td>1.000000</td>\n",
       "      <td>1.000000</td>\n",
       "      <td>1.590000e+07</td>\n",
       "      <td>8.000000</td>\n",
       "      <td>14.000000</td>\n",
       "      <td>4.000000</td>\n",
       "      <td>670.000000</td>\n",
       "    </tr>\n",
       "  </tbody>\n",
       "</table>\n",
       "</div>"
      ],
      "text/plain": [
       "         Security      Garage   Concierge         Price  Nmbr of rooms  \\\n",
       "count  359.000000  359.000000  359.000000  3.590000e+02     359.000000   \n",
       "mean     0.080780    0.002786    0.022284  1.604193e+06       2.504178   \n",
       "std      0.272877    0.052778    0.147812  1.366335e+06       0.838567   \n",
       "min      0.000000    0.000000    0.000000  8.000000e+03       1.000000   \n",
       "25%      0.000000    0.000000    0.000000  7.135000e+05       2.000000   \n",
       "50%      0.000000    0.000000    0.000000  1.263500e+06       2.000000   \n",
       "75%      0.000000    0.000000    0.000000  2.154000e+06       3.000000   \n",
       "max      1.000000    1.000000    1.000000  1.590000e+07       8.000000   \n",
       "\n",
       "       Nmbr of pieces  Nmbr of bathrooms     Surface  \n",
       "count      359.000000         359.000000  359.000000  \n",
       "mean         3.749304           1.713092  120.451253  \n",
       "std          1.448788           0.675692   66.315247  \n",
       "min          1.000000           1.000000   34.000000  \n",
       "25%          3.000000           1.000000   80.000000  \n",
       "50%          4.000000           2.000000  103.000000  \n",
       "75%          4.000000           2.000000  145.500000  \n",
       "max         14.000000           4.000000  670.000000  "
      ]
     },
     "execution_count": 11,
     "metadata": {},
     "output_type": "execute_result"
    }
   ],
   "source": [
    "df.describe()"
   ]
  },
  {
   "cell_type": "markdown",
   "id": "87adcc4a",
   "metadata": {},
   "source": [
    "# Exploring our data"
   ]
  },
  {
   "cell_type": "markdown",
   "id": "cdaf0579",
   "metadata": {},
   "source": [
    "###### missing values"
   ]
  },
  {
   "cell_type": "code",
   "execution_count": 12,
   "id": "604ecd17",
   "metadata": {},
   "outputs": [
    {
     "data": {
      "text/plain": [
       "Title                0\n",
       "Location             0\n",
       "Security             0\n",
       "Garage               0\n",
       "Concierge            0\n",
       "Price                0\n",
       "City                 0\n",
       "Currency             0\n",
       "Nmbr of rooms        0\n",
       "Nmbr of pieces       0\n",
       "Nmbr of bathrooms    0\n",
       "Newness              0\n",
       "Surface              0\n",
       "dtype: int64"
      ]
     },
     "execution_count": 12,
     "metadata": {},
     "output_type": "execute_result"
    }
   ],
   "source": [
    "df.isnull().sum()"
   ]
  },
  {
   "cell_type": "markdown",
   "id": "070daa5b",
   "metadata": {},
   "source": [
    "###### detecting outliers"
   ]
  },
  {
   "cell_type": "code",
   "execution_count": 13,
   "id": "762d31c0",
   "metadata": {},
   "outputs": [
    {
     "data": {
      "text/plain": [
       "Index(['Title', 'Location', 'Security', 'Garage', 'Concierge', 'Price', 'City',\n",
       "       'Currency', 'Nmbr of rooms', 'Nmbr of pieces', 'Nmbr of bathrooms',\n",
       "       'Newness', 'Surface'],\n",
       "      dtype='object')"
      ]
     },
     "execution_count": 13,
     "metadata": {},
     "output_type": "execute_result"
    }
   ],
   "source": [
    "df.columns"
   ]
  },
  {
   "cell_type": "code",
   "execution_count": 21,
   "id": "4f2a4190",
   "metadata": {},
   "outputs": [],
   "source": [
    "outliers_in_data = df.copy()"
   ]
  },
  {
   "cell_type": "code",
   "execution_count": 25,
   "id": "0ec66a8f",
   "metadata": {},
   "outputs": [],
   "source": [
    "outliers_in_data = outliers_in_data[['Nmbr of rooms', 'Nmbr of pieces','Nmbr of bathrooms']]"
   ]
  },
  {
   "cell_type": "code",
   "execution_count": 26,
   "id": "604b0b0f",
   "metadata": {},
   "outputs": [
    {
     "data": {
      "text/plain": [
       "<AxesSubplot:>"
      ]
     },
     "execution_count": 26,
     "metadata": {},
     "output_type": "execute_result"
    },
    {
     "data": {
      "image/png": "[encoded data removed]",
      "text/plain": [
       "<Figure size 864x432 with 1 Axes>"
      ]
     },
     "metadata": {
      "needs_background": "light"
     },
     "output_type": "display_data"
    }
   ],
   "source": [
    "sns.boxplot(data=outliers_in_data,orient='h')"
   ]
  },
  {
   "cell_type": "code",
   "execution_count": 28,
   "id": "42bb7989",
   "metadata": {},
   "outputs": [
    {
     "data": {
      "image/png": "[encoded data removed]",
      "text/plain": [
       "<Figure size 864x432 with 1 Axes>"
      ]
     },
     "metadata": {
      "needs_background": "light"
     },
     "output_type": "display_data"
    }
   ],
   "source": [
    "## outlier number of rooms\n",
    "matplotlib.rcParams['figure.figsize'] = (12,6)\n",
    "green_diamond = dict(markerfacecolor='g', marker='D')\n",
    "fig3, ax3 = plt.subplots()\n",
    "ax3.set_title('Changed Outlier Symbols')\n",
    "ax3.boxplot(df['Surface'], flierprops=green_diamond)\n",
    "plt.show()"
   ]
  },
  {
   "cell_type": "markdown",
   "id": "f5614212",
   "metadata": {},
   "source": [
    "#### exploring the numerical data"
   ]
  },
  {
   "cell_type": "code",
   "execution_count": 35,
   "id": "82092f64",
   "metadata": {},
   "outputs": [],
   "source": [
    "room_numbers = df['Nmbr of rooms'].value_counts().index\n",
    "room_values = df['Nmbr of rooms'].value_counts().values"
   ]
  },
  {
   "cell_type": "code",
   "execution_count": 36,
   "id": "a784b4fc",
   "metadata": {},
   "outputs": [
    {
     "data": {
      "text/plain": [
       "Int64Index([2, 3, 1, 4, 5, 8, 7], dtype='int64')"
      ]
     },
     "execution_count": 36,
     "metadata": {},
     "output_type": "execute_result"
    }
   ],
   "source": [
    "room_numbers"
   ]
  },
  {
   "cell_type": "code",
   "execution_count": 33,
   "id": "188e15dc",
   "metadata": {},
   "outputs": [
    {
     "data": {
      "text/plain": [
       "array([170, 139,  23,  21,   4,   1,   1], dtype=int64)"
      ]
     },
     "execution_count": 33,
     "metadata": {},
     "output_type": "execute_result"
    }
   ],
   "source": [
    "room_values"
   ]
  },
  {
   "cell_type": "code",
   "execution_count": 40,
   "id": "9be0bcc3",
   "metadata": {},
   "outputs": [
    {
     "data": {
      "image/png": "[encoded data removed]",
      "text/plain": [
       "<Figure size 864x432 with 1 Axes>"
      ]
     },
     "metadata": {},
     "output_type": "display_data"
    }
   ],
   "source": [
    "plt.pie(room_values[:5],labels=room_numbers[:5],autopct='%1.2f%%')\n",
    "plt.show()"
   ]
  },
  {
   "cell_type": "markdown",
   "id": "4372205c",
   "metadata": {},
   "source": [
    "#### Observation : \n",
    "1. must appartement have 3 or 2 of rooms"
   ]
  },
  {
   "cell_type": "code",
   "execution_count": 47,
   "id": "090474ea",
   "metadata": {},
   "outputs": [
    {
     "data": {
      "text/html": [
       "<div>\n",
       "<style scoped>\n",
       "    .dataframe tbody tr th:only-of-type {\n",
       "        vertical-align: middle;\n",
       "    }\n",
       "\n",
       "    .dataframe tbody tr th {\n",
       "        vertical-align: top;\n",
       "    }\n",
       "\n",
       "    .dataframe thead th {\n",
       "        text-align: right;\n",
       "    }\n",
       "</style>\n",
       "<table border=\"1\" class=\"dataframe\">\n",
       "  <thead>\n",
       "    <tr style=\"text-align: right;\">\n",
       "      <th></th>\n",
       "      <th>Nmbr of rooms</th>\n",
       "      <th>Nmbr of pieces</th>\n",
       "      <th>number Count</th>\n",
       "    </tr>\n",
       "  </thead>\n",
       "  <tbody>\n",
       "    <tr>\n",
       "      <th>0</th>\n",
       "      <td>1</td>\n",
       "      <td>1</td>\n",
       "      <td>14</td>\n",
       "    </tr>\n",
       "    <tr>\n",
       "      <th>1</th>\n",
       "      <td>1</td>\n",
       "      <td>2</td>\n",
       "      <td>7</td>\n",
       "    </tr>\n",
       "    <tr>\n",
       "      <th>2</th>\n",
       "      <td>1</td>\n",
       "      <td>3</td>\n",
       "      <td>2</td>\n",
       "    </tr>\n",
       "    <tr>\n",
       "      <th>3</th>\n",
       "      <td>2</td>\n",
       "      <td>1</td>\n",
       "      <td>1</td>\n",
       "    </tr>\n",
       "    <tr>\n",
       "      <th>4</th>\n",
       "      <td>2</td>\n",
       "      <td>2</td>\n",
       "      <td>12</td>\n",
       "    </tr>\n",
       "  </tbody>\n",
       "</table>\n",
       "</div>"
      ],
      "text/plain": [
       "   Nmbr of rooms  Nmbr of pieces  number Count\n",
       "0              1               1            14\n",
       "1              1               2             7\n",
       "2              1               3             2\n",
       "3              2               1             1\n",
       "4              2               2            12"
      ]
     },
     "execution_count": 47,
     "metadata": {},
     "output_type": "execute_result"
    }
   ],
   "source": [
    "number_count = df.groupby(['Nmbr of rooms','Nmbr of pieces']).size().reset_index().rename(columns={0:'number Count'})\n",
    "number_count.head()"
   ]
  },
  {
   "cell_type": "code",
   "execution_count": 50,
   "id": "d98e356e",
   "metadata": {},
   "outputs": [
    {
     "data": {
      "text/plain": [
       "<AxesSubplot:xlabel='Nmbr of pieces', ylabel='number Count'>"
      ]
     },
     "execution_count": 50,
     "metadata": {},
     "output_type": "execute_result"
    },
    {
     "data": {
      "image/png": "[encoded data removed]",
      "text/plain": [
       "<Figure size 864x432 with 1 Axes>"
      ]
     },
     "metadata": {
      "needs_background": "light"
     },
     "output_type": "display_data"
    }
   ],
   "source": [
    "sns.barplot(x=\"Nmbr of pieces\",y=\"number Count\",data=number_count)"
   ]
  },
  {
   "cell_type": "markdown",
   "id": "d9f9e5d7",
   "metadata": {},
   "source": [
    "#### Observation : \n",
    "1. majority of appartement in tangier have 3 pieces"
   ]
  },
  {
   "cell_type": "code",
   "execution_count": null,
   "id": "9a5b338f",
   "metadata": {},
   "outputs": [],
   "source": []
  }
 ],
 "metadata": {
  "kernelspec": {
   "display_name": "Python 3 (ipykernel)",
   "language": "python",
   "name": "python3"
  },
  "language_info": {
   "codemirror_mode": {
    "name": "ipython",
    "version": 3
   },
   "file_extension": ".py",
   "mimetype": "text/x-python",
   "name": "python",
   "nbconvert_exporter": "python",
   "pygments_lexer": "ipython3",
   "version": "3.9.7"
  }
 },
 "nbformat": 4,
 "nbformat_minor": 5
}
